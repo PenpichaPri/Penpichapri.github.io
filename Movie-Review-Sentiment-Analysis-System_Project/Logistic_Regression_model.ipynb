{
  "nbformat": 4,
  "nbformat_minor": 0,
  "metadata": {
    "colab": {
      "provenance": []
    },
    "kernelspec": {
      "name": "python3",
      "display_name": "Python 3"
    },
    "language_info": {
      "name": "python"
    }
  },
  "cells": [
    {
      "cell_type": "markdown",
      "source": [
        "# System\n"
      ],
      "metadata": {
        "id": "A_BjyHGYcamh"
      }
    },
    {
      "cell_type": "code",
      "execution_count": null,
      "metadata": {
        "colab": {
          "base_uri": "https://localhost:8080/"
        },
        "id": "rtTxqVMpyhWD",
        "outputId": "e5ece8ef-82a2-45cd-a1cc-a8ef7df63333"
      },
      "outputs": [
        {
          "output_type": "stream",
          "name": "stdout",
          "text": [
            "Mounted at /content/drive\n"
          ]
        }
      ],
      "source": [
        "from google.colab import drive\n",
        "drive.mount('/content/drive')"
      ]
    },
    {
      "cell_type": "code",
      "source": [
        "!pip install pythainlp"
      ],
      "metadata": {
        "colab": {
          "base_uri": "https://localhost:8080/"
        },
        "id": "3n9oS511QvRH",
        "outputId": "5f03be8b-a770-4faa-cfe6-84ab30d2d2ba"
      },
      "execution_count": null,
      "outputs": [
        {
          "output_type": "stream",
          "name": "stdout",
          "text": [
            "Collecting pythainlp\n",
            "  Downloading pythainlp-4.0.2-py3-none-any.whl (13.4 MB)\n",
            "\u001b[2K     \u001b[90m━━━━━━━━━━━━━━━━━━━━━━━━━━━━━━━━━━━━━━━━\u001b[0m \u001b[32m13.4/13.4 MB\u001b[0m \u001b[31m40.8 MB/s\u001b[0m eta \u001b[36m0:00:00\u001b[0m\n",
            "\u001b[?25hRequirement already satisfied: requests>=2.22.0 in /usr/local/lib/python3.10/dist-packages (from pythainlp) (2.31.0)\n",
            "Requirement already satisfied: charset-normalizer<4,>=2 in /usr/local/lib/python3.10/dist-packages (from requests>=2.22.0->pythainlp) (3.3.2)\n",
            "Requirement already satisfied: idna<4,>=2.5 in /usr/local/lib/python3.10/dist-packages (from requests>=2.22.0->pythainlp) (3.4)\n",
            "Requirement already satisfied: urllib3<3,>=1.21.1 in /usr/local/lib/python3.10/dist-packages (from requests>=2.22.0->pythainlp) (2.0.7)\n",
            "Requirement already satisfied: certifi>=2017.4.17 in /usr/local/lib/python3.10/dist-packages (from requests>=2.22.0->pythainlp) (2023.7.22)\n",
            "Installing collected packages: pythainlp\n",
            "Successfully installed pythainlp-4.0.2\n"
          ]
        }
      ]
    },
    {
      "cell_type": "code",
      "source": [
        "import pandas as pd\n",
        "import numpy as np\n",
        "#clean_word\n",
        "import re\n",
        "from pythainlp.tokenize import word_tokenize\n",
        "import nltk\n",
        "nltk.download('stopwords')\n",
        "from nltk.corpus import stopwords\n",
        "from nltk.tokenize.toktok import ToktokTokenizer\n",
        "#Word_to_vector\n",
        "from sklearn.feature_extraction.text import TfidfVectorizer\n",
        "from sklearn.pipeline import Pipeline\n",
        "#model\n",
        "from sklearn.linear_model import LogisticRegression\n",
        "#split\n",
        "from sklearn.model_selection import train_test_split\n",
        "#Accuracy\n",
        "from sklearn.metrics import accuracy_score"
      ],
      "metadata": {
        "colab": {
          "base_uri": "https://localhost:8080/"
        },
        "id": "SeIebLqJ0rUA",
        "outputId": "be437267-ace7-4b68-c312-7518cd914bdd"
      },
      "execution_count": null,
      "outputs": [
        {
          "output_type": "stream",
          "name": "stderr",
          "text": [
            "[nltk_data] Downloading package stopwords to /root/nltk_data...\n",
            "[nltk_data]   Unzipping corpora/stopwords.zip.\n"
          ]
        }
      ]
    },
    {
      "cell_type": "markdown",
      "source": [
        "# Data preprocessing"
      ],
      "metadata": {
        "id": "iCnqiwsAcrNi"
      }
    },
    {
      "cell_type": "code",
      "source": [
        "#Load and preprocess the data\n",
        "data = pd.read_csv('/content/drive/MyDrive/Project_IMDB/Colab train model/data/4_imdb_master.csv',encoding='ISO-8859-1')  # Replace 'shopping-comment.csv' with your dataset\n",
        "data.shape\n",
        "data.info()"
      ],
      "metadata": {
        "id": "bXOzE-yAEhgZ",
        "colab": {
          "base_uri": "https://localhost:8080/"
        },
        "outputId": "24dc21d6-e756-46fa-f153-bdde36084aaf"
      },
      "execution_count": null,
      "outputs": [
        {
          "output_type": "stream",
          "name": "stdout",
          "text": [
            "<class 'pandas.core.frame.DataFrame'>\n",
            "RangeIndex: 100000 entries, 0 to 99999\n",
            "Data columns (total 5 columns):\n",
            " #   Column      Non-Null Count   Dtype \n",
            "---  ------      --------------   ----- \n",
            " 0   Unnamed: 0  100000 non-null  int64 \n",
            " 1   type        100000 non-null  object\n",
            " 2   review      100000 non-null  object\n",
            " 3   label       100000 non-null  object\n",
            " 4   file        100000 non-null  object\n",
            "dtypes: int64(1), object(4)\n",
            "memory usage: 3.8+ MB\n"
          ]
        }
      ]
    },
    {
      "cell_type": "code",
      "source": [
        "#Choose the colum and remove colum\n",
        "data.drop(['Unnamed: 0'], axis=1, inplace=True)\n",
        "data.drop(['file'], axis=1, inplace=True)\n",
        "data.info()\n",
        "data.head()\n",
        "data.shape"
      ],
      "metadata": {
        "id": "8ZE469ftc3KQ",
        "colab": {
          "base_uri": "https://localhost:8080/"
        },
        "outputId": "58c56ab4-b7b1-4cad-eca0-c27d471fe6a9"
      },
      "execution_count": null,
      "outputs": [
        {
          "output_type": "stream",
          "name": "stdout",
          "text": [
            "<class 'pandas.core.frame.DataFrame'>\n",
            "RangeIndex: 100000 entries, 0 to 99999\n",
            "Data columns (total 3 columns):\n",
            " #   Column  Non-Null Count   Dtype \n",
            "---  ------  --------------   ----- \n",
            " 0   type    100000 non-null  object\n",
            " 1   review  100000 non-null  object\n",
            " 2   label   100000 non-null  object\n",
            "dtypes: object(3)\n",
            "memory usage: 2.3+ MB\n"
          ]
        },
        {
          "output_type": "execute_result",
          "data": {
            "text/plain": [
              "(100000, 3)"
            ]
          },
          "metadata": {},
          "execution_count": 6
        }
      ]
    },
    {
      "cell_type": "code",
      "source": [
        "# check dataset\n",
        "print(data.columns)\n",
        "print(data['label'].value_counts())\n",
        "print(data[data['type'] == 'train'].value_counts())\n",
        "data.isnull().values.any()"
      ],
      "metadata": {
        "id": "zyG0Mx-jL-kX",
        "colab": {
          "base_uri": "https://localhost:8080/"
        },
        "outputId": "22e8dc72-5a32-4626-c2f0-fc34819e9d3c"
      },
      "execution_count": null,
      "outputs": [
        {
          "output_type": "stream",
          "name": "stdout",
          "text": [
            "Index(['type', 'review', 'label'], dtype='object')\n",
            "unsup    50000\n",
            "neg      25000\n",
            "pos      25000\n",
            "Name: label, dtype: int64\n",
            "type   review                                                                                                                                                                                                                                                                                                                                                                                                                                                                                                                                                                                                                                                                                                                                                                                                                                                                                                                                                                                                                                                                                                                                                                                                                                                                                                                                                                                                                                                                                                                                                                                                                                                                                                                                                                                                                                                                                                                                                                                                                                                                                                                                                                                                                                                                                                                                                                                                                                    label\n",
            "train  Am not from America, I usually watch this show on AXN channel, I don't know why this respected channel air such sucking program in prime time slot. Creation of Hollywood's Money Bank Jerry Bruckheimer, this time he is spending a big load of cash in the small screen. In each episode a bunch of peoples having two team members travels from on country to another for a great sum of money; where the camera crews shoot their travels. I don't know who the hell gave this stupid idea for the show. It has nothing to watch for, in all episodes we see people ran like beggars, some times shouting, crying, beeping, jerky camera works..huh it's harmful to both eyes and ears. The most disgusting part in the race is the viewers finally knows each of the team members can't enjoy their race/traveling experience. Even though, to add up the ratings the producers came up with the ideas of including Gays in one shows, sucking American reality show.<br /><br />It's nothing to watch for, better switch to another channels.<br /><br />The Amazing Race = The Disgusting Show.                                                                                                                                                                                                                                                                                                                                                                                                                                                                                                                                                                                                                                                                                                                                                                                                                                                                                                                                                                                                                                                                                                                                                                                                                                                                                                                                    unsup    5\n",
            "       When I was only six, my mother and father sent my older brother to<br /><br />take me to watch the Olson and Johnson routine at a New York<br /><br />City nightclub called THE CARNIVAL. I had been aware of the<br /><br />antics of the Three Stooges, Laurel and Hardy and Abbott and<br /><br />Costello, but now I could see first hand the live slapstick of<br /><br />involved comedy.<br /><br />The film \"Crazy House\" is a perfect example of keeping the wild art<br /><br />of updated slapstick alive on film. It is an update of the pie<br /><br />throwing of early silents and the progression from Charlie Chaplin<br /><br />to Charlie Chase. This film even has small roles for all the lesser<br /><br />known comics of that era. Their roles in this movie are much the<br /><br />same as the bit inserts into \"It's a Mad, Mad, Mad, Mad World\".<br /><br />For those a little bit younger than myself, this film would be called<br /><br />the progenitor of \"Rowan & Martin's Laugh In\", a TV series that ran<br /><br />from 1968-1973.<br /><br />All I can say is, \"If you want to see the visualization of one liners as<br /><br />presented in the 1940's try and get to see this film\". In the short<br /><br />while, watch \"Laugh In\" reruns and prep yourself for a look back<br /><br />into comedy history.<br /><br />                                                                                                                                                                                                                                                                                                                                                                                                                                                                                                                                                                                                                                                                                                                                                                                                                                                                                                                                                                                                                                                                        unsup    4\n",
            "       i love this film so much it has a great story line and the actors are amazing.it helped that the film had Zack Efron in because he is a talented actor who recently the lead in high school musical i gave this film 10/10 because it was amazing and i dint want 2 blink because i did not want 2 miss a second of it i also thought that the film was heart warming and it made me see a whole new side of Zack's acting skills i no that i cant wait to see him in his new film hairspray because if it is as good as this it will be at the top of the charts the only downside to this film is that Crystal Hunt who plays Jill Overton got 2 kiss Zack i was so Jealous if only i lived in America i would of auditioned for that part but i live in england for now                                                                                                                                                                                                                                                                                                                                                                                                                                                                                                                                                                                                                                                                                                                                                                                                                                                                                                                                                                                                                                                                                                                                                                                                                                                                                                                                                                                                                                                                                                                                                                                                                                                                unsup    3\n",
            "       How has this piece of crap stayed on TV this long? It's terrible. It makes me want to shoot someone. It's so fake that it is actually worse than a 1940s sci-fi movie. I'd rather have a stroke than watch this nonsense. I remember watching it when it first came out. I thought, hey this could be interesting, then I found out how absolutely, insanely, ridiculously stupid it really was. It was so bad that I actually took out my pocket knife and stuck my hand to the table.<br /><br />Please people, stop watching this and all other reality shows, they're the trash that is jamming the networks and canceling quality programming that requires some thought to create.                                                                                                                                                                                                                                                                                                                                                                                                                                                                                                                                                                                                                                                                                                                                                                                                                                                                                                                                                                                                                                                                                                                                                                                                                                                                                                                                                                                                                                                                                                                                                                                                                                                                                                                                                  neg      3\n",
            "       I am surprised that so many viewers liked this movie. Let me make myself clear: I find the subject matter very interesting. Trying to understand why people (especially, young people, and even more so young girls) become terrorists (or freedom fighters; the terminology is heavily dependent on your alliances) is quite noble. So I was really eager to see the movie, but unfortunately was disappointed beyond the normal expectations. What was good about it? Well, the actors were not too bad (especially, given the fact that they were mostly non-professionals). That's about it. What was bad? Let's start with the premise: a girl (freedom fighter/terrorist) becomes impregnated by a wounded \"brother in arms\" while they find themselves hiding from the government troops in a ditch (and the latter are still raiding the area, might I add). Are you kidding me? I admit, I've never been shot in a battle, so I cannot tell what a person would normally do under these circumstances, but my wild guess is that having sex with a comrade (while the enemy soldiers are searching around) would not be the first item on the list. Well, may be I am wrong here... Next, who was in charge of the soundtrack (and sound in general)? This was probably the worst movie sound, I've ever heard: the same bad composition played on a cheap synthesizer over and over, so by the middle of the movie, you have an urge to turn the sound off and just read the subtitles. Who was the director? Almost every scene (with exception of the scenes involving the old man, his goofy friend, and the paralyzed wife) looked exceptionally fake: fights, killings, pull-ups, etc. Anyways, this could've been a decent unprofessional movie, but for a professional motion picture (especially, given the amount of positive coverage), it falls quite short.                                                                                                                                                                                                                                                                                                                                                                                                                                                                                                                                                         unsup    3\n",
            "                                                                                                                                                                                                                                                                                                                                                                                                                                                                                                                                                                                                                                                                                                                                                                                                                                                                                                                                                                                                                                                                                                                                                                                                                                                                                                                                                                                                                                                                                                                                                                                                                                                                                                                                                                                                                                                                                                                                                                                                                                                                                                                                                                                                                                                                                                                                                                                                                                                         ..\n",
            "       I liked the book. I really did. I thought it was a great fantasy story with dynamic, entertaining, and complex characters. The plot was great; it was an intricate and well-done book. When I heard a movie was being made, I was excited. I had hoped they would take this great book and make it the next big fantasy series. I was sorely mistaken.<br /><br />First of all, how can you possibly expect to take such a long book and cram it into 1hr and 40min? IMO, any fantasy movie such as this should be at least 2 hours, preferably more. Because what does fantasy appeal to? Intelligent people. Next, the acting was terrible. Even Jeremy Irons and John Malkovich (who there is more of in the trailers than the actual movie) were laughable. Saphira as Rachel Weisz wasn't particularly well cast; she sounds a bit young and not very wise, as Saphira is supposed to be. Ed Speleers, ouch. There was no expression in his voice AT ALL. Every line sounded the same: so monotonic. Sienna Guilliory as Arya was depressing. Acts more like a teenager than the wise elf she is supposed to be. The only pretty decent characters were Durza (Robert Carlyle) and Murtagh (Garrett Hedlund).<br /><br />Whoever wrote this should be fired. This is the most clichÃ©d movie I have ever heard. One line is said about 5 times. It's utterly disgusting. You know right what's gonna come out of a character's mouth even before he or she says it. Oh, and this: \"Time to fly, do or die!\" I bust out laughing during one of the \"tensest\" parts of the movie.<br /><br />To top it off, this movie is BORING. All the action is over in about 6-10 minutes. The rest is just dialogue that serves to advance a poorly cut plot that the audience isn't interested in. The whole thing seems very pieced together. Scenes continually cut to one another, giving an episodic feel and messing up the movies flow. The whole thing is just cheesy.<br /><br />Overall, read the book. Skip the movie. You will be SO disappointed.                                                                                                                                                                                                                                                                                                                                                                                   unsup    1\n",
            "       I liked the acting. There were no top class actors and I really missed Mark Hamill and Malcom McDowell. But there were a lot of actors I like.<br /><br />As a fan of the original games, especially part 3, this movie could've been a bit more than the games, casting the original actors and such. And instead of the fighting more story development would've been quite nice. I remember the ending of WC3 as being gloomy, with the Kilrathi home world being destroyed by mankind. A story like that... ah, this movie would be great. Instead we have a cheesy standard action plot. We are at war, the enemy stole a plot device and is threatening our whole race. Yawn.<br /><br />Well, the potential was out there, the movie didn't catch it. Sad, sad. But they still managed to make a decent SF movie. There are definitely worse movies than WC.                                                                                                                                                                                                                                                                                                                                                                                                                                                                                                                                                                                                                                                                                                                                                                                                                                                                                                                                                                                                                                                                                                                                                                                                                                                                                                                                                                                                                                                                                                                                                                       unsup    1\n",
            "       I liked some parts of this film mostly because of its Chicago location shots, But I thought the film's production values were very low budget for a Hollywood film. It really looks reminiscent of a made-for-TV movie. The overlaid 80's Casio keyboard soundtrack for example, made this film seem (well what it is) very very 80's cheese. Watching it i couldn't help think immediately of \"About Last Night\" a GREAT film! How can two films both shot in Chicago, the same year (1986), and both films a Tri-Star production look so completely different!?! In a nutshell my favorite actor in this film was Eva Marie Saint who indeed gave a saint of a performance - The scene of her talking to her husband (Gleason) in the hospital, spilling her guts \"What Happened to us Max? I cared, I know I cared\" and Max's reply was a self-centered cold, \"Bullshit\". God I felt her pain. It ripped my heart out. Don't rent this film but if it comes on TV on a Sunday afternoon you may get thru it but then go out immediately and rent \"About Last Night\" to cheer you up. This one is a BIG DOWNER.                                                                                                                                                                                                                                                                                                                                                                                                                                                                                                                                                                                                                                                                                                                                                                                                                                                                                                                                                                                                                                                                                                                                                                                                                                                                                                                         unsup    1\n",
            "       I liked season 1 and part of season 2 a little better. Let me just give some bits and parts of the show that made it lose a lot of cool points.<br /><br />Joan's behavior was completely rotten towards William when they returned from New York, and she was a bit immature, trying to play games, setting him up with both Monica and the other girl. Those that watched the show avidly saw her conduct towards him.<br /><br />She was actually jealous of Toni when Toni was about to get married. What was that all about? I thought they were true friends. She took out her anger on Ellis, and later cheated on him and lied to him. She was an extremely stink girlfriend. A lying, cheating, jealous, immature fool. Ellis was never that great anyway. Their union, as many other unions on this show, should have never happened.<br /><br />Maya's conduct was similar, especially when she was William's assistant, and even after she was rightly fired. The episode where Reverend Al Sharpton guest starred made me cuss. William asked her to do one thing, she did something else, and made a spectacle of herself in front of the Reverend. She failed to remember that she was the one who was rude and inefficient, and tried to make William out to be the bad guy. She was an ingrate to both William and Joan. The whole ghetto, sassy act was not cute and not cool. She always felt she could do what she wanted when she wanted where she wanted.<br /><br />She also wanted to make Darnell miserable after they broke up, calling him over to pick fights with him Wasn't she the one who cheated? <br /><br />Her friend also acted like a total jerk towards the father of her own children when he came to pick up the kids.<br /><br />Did Lynn say she wanted to burn down Joan's house after she was kicked out? Did she also want to do the same after Toni fired her as her assistant at her new real estate office? That was supposed to be funny? Don't even get me started on Toni Chlamydia Childs and Monica the Control Freak.<br /><br />There is so little respect for one another that I sometimes question the friendships. The writer of this show is another writer I wish I could talk to face to face. If there is anything that I am not understanding, then she can show me. I want to go through episode by episode and drill her.                                               unsup    1\n",
            "       Â· Four young adults go on a road trip to document quirky roadside attractions and stumble across Captain Spaulding's Museum of Monsters and Madmen, which includes a murder ride indexing famous murderersÂ· One of the attractions featured in the murder ride features a local Texas legend, Dr. Satan, who was accused of performing horrendous experiments on his patients at the Weeping Willows Mental HospitalÂ·<br /><br />Captain Spaulding's horror ride piques the foursome's interest in Dr. Satan. Spaulding happily gives them directions to the tree where Dr. Satan was allegedly hanged by an angry mob. The four set out to investigate Â· Close to the hanging tree, and in the middle of a pouring storm, the four pick up a hitchhiker named Baby Firefly. Shortly after picking up Baby, their car blows a tire. In the middle of nowhere, with no spare tire, the four decide to take up Baby's offer to have her family help fix the car Â· Once the four have gathered at the decaying farmhouse inhabited by the Firefly family, the Halloween Eve fun begins <br /><br />Â· I'm a little ashamed to admit that this is one of my favorite horror movies, which is essentially a tribute to 70's horror filmsÂ· People either really seem to love this movie or flat out hate it. I understand both perspectives. There are definitely some things I don't like, such as Zombie's choice to cast his wife Sheri (Not a professional actress) in the role of Baby Firefly, and the overuse of lighting effects in some scenesÂ· Zombie doesn't hold back, and that's what I like about it. Zombie doesn't care if he steps on people's toes with this film. There is extreme graphic violence, much of which is committed against womenÂ· The editing and cinematography are cartoonish, and frightening at times. I was caught off guard when I viewed this movie for the first time, and was genuinely shocked and scared in some scenes. <br /><br />There are some quality jump scares and enough horror to go around for allÂ· Some people seem to go into this movie having already decided their not going to be scared and their not going to like it because Zombie made itÂ· Admittedly, I didn't like Zombie's attempt to remake Halloween. But House and the follow up, The Devil's Rejects will eventually come to be admired as quality horror film contributions **********Ten out of ten stars  unsup    1\n",
            "Length: 74411, dtype: int64\n"
          ]
        },
        {
          "output_type": "execute_result",
          "data": {
            "text/plain": [
              "False"
            ]
          },
          "metadata": {},
          "execution_count": 7
        }
      ]
    },
    {
      "cell_type": "code",
      "source": [
        "# Cleaning the text\n",
        "def cleaning(sen):\n",
        "  sen = re.sub('[^A-Za-z]+', ' ', sen)\n",
        "  sen = re.sub(r\"\\s+[a-zA-Z]\\s+\", ' ',sen)\n",
        "  sen = re.sub(r'\\s+',' ',sen)\n",
        "  sen = re.sub(r'<[^>]+>', ' ',sen)\n",
        "  return sen\n",
        "\n",
        "data['review'] = data['review'].apply(cleaning)\n",
        "data.head()"
      ],
      "metadata": {
        "id": "Wa8L2zTRI_4Z",
        "colab": {
          "base_uri": "https://localhost:8080/",
          "height": 206
        },
        "outputId": "28a64367-c456-4229-adbb-fa3dc4ed495d"
      },
      "execution_count": null,
      "outputs": [
        {
          "output_type": "execute_result",
          "data": {
            "text/plain": [
              "   type                                             review label\n",
              "0  test  Once again Mr Costner has dragged out movie fo...   neg\n",
              "1  test  This is an example of why the majority of acti...   neg\n",
              "2  test  First of all hate those moronic rappers who co...   neg\n",
              "3  test  Not even the Beatles could write songs everyon...   neg\n",
              "4  test  Brass pictures movies is not fitting word for ...   neg"
            ],
            "text/html": [
              "\n",
              "  <div id=\"df-753e5b5b-0d75-4a0f-8d33-5e722f2e1cb2\" class=\"colab-df-container\">\n",
              "    <div>\n",
              "<style scoped>\n",
              "    .dataframe tbody tr th:only-of-type {\n",
              "        vertical-align: middle;\n",
              "    }\n",
              "\n",
              "    .dataframe tbody tr th {\n",
              "        vertical-align: top;\n",
              "    }\n",
              "\n",
              "    .dataframe thead th {\n",
              "        text-align: right;\n",
              "    }\n",
              "</style>\n",
              "<table border=\"1\" class=\"dataframe\">\n",
              "  <thead>\n",
              "    <tr style=\"text-align: right;\">\n",
              "      <th></th>\n",
              "      <th>type</th>\n",
              "      <th>review</th>\n",
              "      <th>label</th>\n",
              "    </tr>\n",
              "  </thead>\n",
              "  <tbody>\n",
              "    <tr>\n",
              "      <th>0</th>\n",
              "      <td>test</td>\n",
              "      <td>Once again Mr Costner has dragged out movie fo...</td>\n",
              "      <td>neg</td>\n",
              "    </tr>\n",
              "    <tr>\n",
              "      <th>1</th>\n",
              "      <td>test</td>\n",
              "      <td>This is an example of why the majority of acti...</td>\n",
              "      <td>neg</td>\n",
              "    </tr>\n",
              "    <tr>\n",
              "      <th>2</th>\n",
              "      <td>test</td>\n",
              "      <td>First of all hate those moronic rappers who co...</td>\n",
              "      <td>neg</td>\n",
              "    </tr>\n",
              "    <tr>\n",
              "      <th>3</th>\n",
              "      <td>test</td>\n",
              "      <td>Not even the Beatles could write songs everyon...</td>\n",
              "      <td>neg</td>\n",
              "    </tr>\n",
              "    <tr>\n",
              "      <th>4</th>\n",
              "      <td>test</td>\n",
              "      <td>Brass pictures movies is not fitting word for ...</td>\n",
              "      <td>neg</td>\n",
              "    </tr>\n",
              "  </tbody>\n",
              "</table>\n",
              "</div>\n",
              "    <div class=\"colab-df-buttons\">\n",
              "\n",
              "  <div class=\"colab-df-container\">\n",
              "    <button class=\"colab-df-convert\" onclick=\"convertToInteractive('df-753e5b5b-0d75-4a0f-8d33-5e722f2e1cb2')\"\n",
              "            title=\"Convert this dataframe to an interactive table.\"\n",
              "            style=\"display:none;\">\n",
              "\n",
              "  <svg xmlns=\"http://www.w3.org/2000/svg\" height=\"24px\" viewBox=\"0 -960 960 960\">\n",
              "    <path d=\"M120-120v-720h720v720H120Zm60-500h600v-160H180v160Zm220 220h160v-160H400v160Zm0 220h160v-160H400v160ZM180-400h160v-160H180v160Zm440 0h160v-160H620v160ZM180-180h160v-160H180v160Zm440 0h160v-160H620v160Z\"/>\n",
              "  </svg>\n",
              "    </button>\n",
              "\n",
              "  <style>\n",
              "    .colab-df-container {\n",
              "      display:flex;\n",
              "      gap: 12px;\n",
              "    }\n",
              "\n",
              "    .colab-df-convert {\n",
              "      background-color: #E8F0FE;\n",
              "      border: none;\n",
              "      border-radius: 50%;\n",
              "      cursor: pointer;\n",
              "      display: none;\n",
              "      fill: #1967D2;\n",
              "      height: 32px;\n",
              "      padding: 0 0 0 0;\n",
              "      width: 32px;\n",
              "    }\n",
              "\n",
              "    .colab-df-convert:hover {\n",
              "      background-color: #E2EBFA;\n",
              "      box-shadow: 0px 1px 2px rgba(60, 64, 67, 0.3), 0px 1px 3px 1px rgba(60, 64, 67, 0.15);\n",
              "      fill: #174EA6;\n",
              "    }\n",
              "\n",
              "    .colab-df-buttons div {\n",
              "      margin-bottom: 4px;\n",
              "    }\n",
              "\n",
              "    [theme=dark] .colab-df-convert {\n",
              "      background-color: #3B4455;\n",
              "      fill: #D2E3FC;\n",
              "    }\n",
              "\n",
              "    [theme=dark] .colab-df-convert:hover {\n",
              "      background-color: #434B5C;\n",
              "      box-shadow: 0px 1px 3px 1px rgba(0, 0, 0, 0.15);\n",
              "      filter: drop-shadow(0px 1px 2px rgba(0, 0, 0, 0.3));\n",
              "      fill: #FFFFFF;\n",
              "    }\n",
              "  </style>\n",
              "\n",
              "    <script>\n",
              "      const buttonEl =\n",
              "        document.querySelector('#df-753e5b5b-0d75-4a0f-8d33-5e722f2e1cb2 button.colab-df-convert');\n",
              "      buttonEl.style.display =\n",
              "        google.colab.kernel.accessAllowed ? 'block' : 'none';\n",
              "\n",
              "      async function convertToInteractive(key) {\n",
              "        const element = document.querySelector('#df-753e5b5b-0d75-4a0f-8d33-5e722f2e1cb2');\n",
              "        const dataTable =\n",
              "          await google.colab.kernel.invokeFunction('convertToInteractive',\n",
              "                                                    [key], {});\n",
              "        if (!dataTable) return;\n",
              "\n",
              "        const docLinkHtml = 'Like what you see? Visit the ' +\n",
              "          '<a target=\"_blank\" href=https://colab.research.google.com/notebooks/data_table.ipynb>data table notebook</a>'\n",
              "          + ' to learn more about interactive tables.';\n",
              "        element.innerHTML = '';\n",
              "        dataTable['output_type'] = 'display_data';\n",
              "        await google.colab.output.renderOutput(dataTable, element);\n",
              "        const docLink = document.createElement('div');\n",
              "        docLink.innerHTML = docLinkHtml;\n",
              "        element.appendChild(docLink);\n",
              "      }\n",
              "    </script>\n",
              "  </div>\n",
              "\n",
              "\n",
              "<div id=\"df-ba66bf27-a7e7-4563-9ad9-497d798dc784\">\n",
              "  <button class=\"colab-df-quickchart\" onclick=\"quickchart('df-ba66bf27-a7e7-4563-9ad9-497d798dc784')\"\n",
              "            title=\"Suggest charts\"\n",
              "            style=\"display:none;\">\n",
              "\n",
              "<svg xmlns=\"http://www.w3.org/2000/svg\" height=\"24px\"viewBox=\"0 0 24 24\"\n",
              "     width=\"24px\">\n",
              "    <g>\n",
              "        <path d=\"M19 3H5c-1.1 0-2 .9-2 2v14c0 1.1.9 2 2 2h14c1.1 0 2-.9 2-2V5c0-1.1-.9-2-2-2zM9 17H7v-7h2v7zm4 0h-2V7h2v10zm4 0h-2v-4h2v4z\"/>\n",
              "    </g>\n",
              "</svg>\n",
              "  </button>\n",
              "\n",
              "<style>\n",
              "  .colab-df-quickchart {\n",
              "      --bg-color: #E8F0FE;\n",
              "      --fill-color: #1967D2;\n",
              "      --hover-bg-color: #E2EBFA;\n",
              "      --hover-fill-color: #174EA6;\n",
              "      --disabled-fill-color: #AAA;\n",
              "      --disabled-bg-color: #DDD;\n",
              "  }\n",
              "\n",
              "  [theme=dark] .colab-df-quickchart {\n",
              "      --bg-color: #3B4455;\n",
              "      --fill-color: #D2E3FC;\n",
              "      --hover-bg-color: #434B5C;\n",
              "      --hover-fill-color: #FFFFFF;\n",
              "      --disabled-bg-color: #3B4455;\n",
              "      --disabled-fill-color: #666;\n",
              "  }\n",
              "\n",
              "  .colab-df-quickchart {\n",
              "    background-color: var(--bg-color);\n",
              "    border: none;\n",
              "    border-radius: 50%;\n",
              "    cursor: pointer;\n",
              "    display: none;\n",
              "    fill: var(--fill-color);\n",
              "    height: 32px;\n",
              "    padding: 0;\n",
              "    width: 32px;\n",
              "  }\n",
              "\n",
              "  .colab-df-quickchart:hover {\n",
              "    background-color: var(--hover-bg-color);\n",
              "    box-shadow: 0 1px 2px rgba(60, 64, 67, 0.3), 0 1px 3px 1px rgba(60, 64, 67, 0.15);\n",
              "    fill: var(--button-hover-fill-color);\n",
              "  }\n",
              "\n",
              "  .colab-df-quickchart-complete:disabled,\n",
              "  .colab-df-quickchart-complete:disabled:hover {\n",
              "    background-color: var(--disabled-bg-color);\n",
              "    fill: var(--disabled-fill-color);\n",
              "    box-shadow: none;\n",
              "  }\n",
              "\n",
              "  .colab-df-spinner {\n",
              "    border: 2px solid var(--fill-color);\n",
              "    border-color: transparent;\n",
              "    border-bottom-color: var(--fill-color);\n",
              "    animation:\n",
              "      spin 1s steps(1) infinite;\n",
              "  }\n",
              "\n",
              "  @keyframes spin {\n",
              "    0% {\n",
              "      border-color: transparent;\n",
              "      border-bottom-color: var(--fill-color);\n",
              "      border-left-color: var(--fill-color);\n",
              "    }\n",
              "    20% {\n",
              "      border-color: transparent;\n",
              "      border-left-color: var(--fill-color);\n",
              "      border-top-color: var(--fill-color);\n",
              "    }\n",
              "    30% {\n",
              "      border-color: transparent;\n",
              "      border-left-color: var(--fill-color);\n",
              "      border-top-color: var(--fill-color);\n",
              "      border-right-color: var(--fill-color);\n",
              "    }\n",
              "    40% {\n",
              "      border-color: transparent;\n",
              "      border-right-color: var(--fill-color);\n",
              "      border-top-color: var(--fill-color);\n",
              "    }\n",
              "    60% {\n",
              "      border-color: transparent;\n",
              "      border-right-color: var(--fill-color);\n",
              "    }\n",
              "    80% {\n",
              "      border-color: transparent;\n",
              "      border-right-color: var(--fill-color);\n",
              "      border-bottom-color: var(--fill-color);\n",
              "    }\n",
              "    90% {\n",
              "      border-color: transparent;\n",
              "      border-bottom-color: var(--fill-color);\n",
              "    }\n",
              "  }\n",
              "</style>\n",
              "\n",
              "  <script>\n",
              "    async function quickchart(key) {\n",
              "      const quickchartButtonEl =\n",
              "        document.querySelector('#' + key + ' button');\n",
              "      quickchartButtonEl.disabled = true;  // To prevent multiple clicks.\n",
              "      quickchartButtonEl.classList.add('colab-df-spinner');\n",
              "      try {\n",
              "        const charts = await google.colab.kernel.invokeFunction(\n",
              "            'suggestCharts', [key], {});\n",
              "      } catch (error) {\n",
              "        console.error('Error during call to suggestCharts:', error);\n",
              "      }\n",
              "      quickchartButtonEl.classList.remove('colab-df-spinner');\n",
              "      quickchartButtonEl.classList.add('colab-df-quickchart-complete');\n",
              "    }\n",
              "    (() => {\n",
              "      let quickchartButtonEl =\n",
              "        document.querySelector('#df-ba66bf27-a7e7-4563-9ad9-497d798dc784 button');\n",
              "      quickchartButtonEl.style.display =\n",
              "        google.colab.kernel.accessAllowed ? 'block' : 'none';\n",
              "    })();\n",
              "  </script>\n",
              "</div>\n",
              "    </div>\n",
              "  </div>\n"
            ]
          },
          "metadata": {},
          "execution_count": 8
        }
      ]
    },
    {
      "cell_type": "code",
      "source": [
        "#Tokenization of text\n",
        "tokenizer=ToktokTokenizer()\n",
        "#Setting English stopwords\n",
        "stopword_list=nltk.corpus.stopwords.words('english')\n",
        "\n",
        "#set stopwords to english\n",
        "stopword=set(stopwords.words('english'))\n",
        "print(stopword)\n",
        "\n",
        "#removing the stopwords\n",
        "def remove_stopwords(text, is_lower_case=False):\n",
        "    tokens = tokenizer.tokenize(text)\n",
        "    tokens = [token.strip() for token in tokens]\n",
        "    if is_lower_case:\n",
        "        filtered_tokens = [token for token in tokens if token not in stopword_list]\n",
        "    else:\n",
        "        filtered_tokens = [token for token in tokens if token.lower() not in stopword_list]\n",
        "    filtered_text = ' '.join(filtered_tokens)\n",
        "    return filtered_text\n",
        "\n",
        "#Apply function on review column\n",
        "data['review']=data['review'].apply(remove_stopwords)\n",
        "data.head()"
      ],
      "metadata": {
        "id": "30bwX-7owdyW",
        "colab": {
          "base_uri": "https://localhost:8080/",
          "height": 243
        },
        "outputId": "b6ea25ce-8197-4a41-abd7-d78910353640"
      },
      "execution_count": null,
      "outputs": [
        {
          "output_type": "stream",
          "name": "stdout",
          "text": [
            "{\"couldn't\", 'our', 'themselves', 'do', 'any', 'shouldn', \"doesn't\", 'itself', 'we', 'ours', 'yourself', \"hasn't\", 'him', 'through', 'shan', 'y', 'you', 'those', 'herself', 'doing', 'doesn', \"you've\", \"isn't\", 'ma', 'did', 'in', \"she's\", 'all', \"you'll\", 'to', 'into', 'the', 'very', 'his', 'up', 'll', 'me', 'this', 'a', 'at', 'does', 'that', 'such', 'which', 'whom', 's', 've', 'off', 'too', 't', \"it's\", 'about', 'being', \"aren't\", 'over', 'aren', 'mightn', 'they', 'under', 'each', 'couldn', 'were', 'hers', 're', 'are', 'some', 'wasn', 'has', \"shouldn't\", 'here', 'them', 'not', 'ain', 'after', 'down', \"won't\", 'wouldn', \"weren't\", 'what', 'out', 'because', 'before', 'only', \"haven't\", 'won', 'of', 'no', \"don't\", 'where', 'there', 'had', 'then', 'so', 'below', 'again', \"should've\", 'from', 'my', 'more', 'haven', \"needn't\", 'he', 'and', 'if', \"didn't\", 'be', 'on', 'didn', \"wouldn't\", 'was', 'with', 'her', \"that'll\", 'for', 'its', 'is', 'why', 'these', 'same', 'can', 'when', 'who', 'hadn', 'am', 'been', 'hasn', 'few', 'will', 'ourselves', 'have', 'both', 'your', 'myself', 'between', \"mustn't\", 'she', 'yours', 'o', 'yourselves', 'i', 'against', 'theirs', 'himself', 'during', 'above', 'other', 'don', \"mightn't\", 'mustn', 'just', 'most', \"you're\", 'isn', 'how', 'as', 'while', 'weren', 'needn', 'or', 'own', 'm', 'having', \"hadn't\", 'than', 'should', 'but', 'until', 'further', 'it', 'by', \"shan't\", 'their', \"wasn't\", 'd', 'an', \"you'd\", 'once', 'now', 'nor'}\n"
          ]
        },
        {
          "output_type": "execute_result",
          "data": {
            "text/plain": [
              "   type                                             review label\n",
              "0  test  Mr Costner dragged movie far longer necessary ...   neg\n",
              "1  test  example majority action films Generic boring r...   neg\n",
              "2  test  First hate moronic rappers could nt act gun pr...   neg\n",
              "3  test  even Beatles could write songs everyone liked ...   neg\n",
              "4  test  Brass pictures movies fitting word really some...   neg"
            ],
            "text/html": [
              "\n",
              "  <div id=\"df-1906b636-12bc-4785-9340-31debb4e3fe4\" class=\"colab-df-container\">\n",
              "    <div>\n",
              "<style scoped>\n",
              "    .dataframe tbody tr th:only-of-type {\n",
              "        vertical-align: middle;\n",
              "    }\n",
              "\n",
              "    .dataframe tbody tr th {\n",
              "        vertical-align: top;\n",
              "    }\n",
              "\n",
              "    .dataframe thead th {\n",
              "        text-align: right;\n",
              "    }\n",
              "</style>\n",
              "<table border=\"1\" class=\"dataframe\">\n",
              "  <thead>\n",
              "    <tr style=\"text-align: right;\">\n",
              "      <th></th>\n",
              "      <th>type</th>\n",
              "      <th>review</th>\n",
              "      <th>label</th>\n",
              "    </tr>\n",
              "  </thead>\n",
              "  <tbody>\n",
              "    <tr>\n",
              "      <th>0</th>\n",
              "      <td>test</td>\n",
              "      <td>Mr Costner dragged movie far longer necessary ...</td>\n",
              "      <td>neg</td>\n",
              "    </tr>\n",
              "    <tr>\n",
              "      <th>1</th>\n",
              "      <td>test</td>\n",
              "      <td>example majority action films Generic boring r...</td>\n",
              "      <td>neg</td>\n",
              "    </tr>\n",
              "    <tr>\n",
              "      <th>2</th>\n",
              "      <td>test</td>\n",
              "      <td>First hate moronic rappers could nt act gun pr...</td>\n",
              "      <td>neg</td>\n",
              "    </tr>\n",
              "    <tr>\n",
              "      <th>3</th>\n",
              "      <td>test</td>\n",
              "      <td>even Beatles could write songs everyone liked ...</td>\n",
              "      <td>neg</td>\n",
              "    </tr>\n",
              "    <tr>\n",
              "      <th>4</th>\n",
              "      <td>test</td>\n",
              "      <td>Brass pictures movies fitting word really some...</td>\n",
              "      <td>neg</td>\n",
              "    </tr>\n",
              "  </tbody>\n",
              "</table>\n",
              "</div>\n",
              "    <div class=\"colab-df-buttons\">\n",
              "\n",
              "  <div class=\"colab-df-container\">\n",
              "    <button class=\"colab-df-convert\" onclick=\"convertToInteractive('df-1906b636-12bc-4785-9340-31debb4e3fe4')\"\n",
              "            title=\"Convert this dataframe to an interactive table.\"\n",
              "            style=\"display:none;\">\n",
              "\n",
              "  <svg xmlns=\"http://www.w3.org/2000/svg\" height=\"24px\" viewBox=\"0 -960 960 960\">\n",
              "    <path d=\"M120-120v-720h720v720H120Zm60-500h600v-160H180v160Zm220 220h160v-160H400v160Zm0 220h160v-160H400v160ZM180-400h160v-160H180v160Zm440 0h160v-160H620v160ZM180-180h160v-160H180v160Zm440 0h160v-160H620v160Z\"/>\n",
              "  </svg>\n",
              "    </button>\n",
              "\n",
              "  <style>\n",
              "    .colab-df-container {\n",
              "      display:flex;\n",
              "      gap: 12px;\n",
              "    }\n",
              "\n",
              "    .colab-df-convert {\n",
              "      background-color: #E8F0FE;\n",
              "      border: none;\n",
              "      border-radius: 50%;\n",
              "      cursor: pointer;\n",
              "      display: none;\n",
              "      fill: #1967D2;\n",
              "      height: 32px;\n",
              "      padding: 0 0 0 0;\n",
              "      width: 32px;\n",
              "    }\n",
              "\n",
              "    .colab-df-convert:hover {\n",
              "      background-color: #E2EBFA;\n",
              "      box-shadow: 0px 1px 2px rgba(60, 64, 67, 0.3), 0px 1px 3px 1px rgba(60, 64, 67, 0.15);\n",
              "      fill: #174EA6;\n",
              "    }\n",
              "\n",
              "    .colab-df-buttons div {\n",
              "      margin-bottom: 4px;\n",
              "    }\n",
              "\n",
              "    [theme=dark] .colab-df-convert {\n",
              "      background-color: #3B4455;\n",
              "      fill: #D2E3FC;\n",
              "    }\n",
              "\n",
              "    [theme=dark] .colab-df-convert:hover {\n",
              "      background-color: #434B5C;\n",
              "      box-shadow: 0px 1px 3px 1px rgba(0, 0, 0, 0.15);\n",
              "      filter: drop-shadow(0px 1px 2px rgba(0, 0, 0, 0.3));\n",
              "      fill: #FFFFFF;\n",
              "    }\n",
              "  </style>\n",
              "\n",
              "    <script>\n",
              "      const buttonEl =\n",
              "        document.querySelector('#df-1906b636-12bc-4785-9340-31debb4e3fe4 button.colab-df-convert');\n",
              "      buttonEl.style.display =\n",
              "        google.colab.kernel.accessAllowed ? 'block' : 'none';\n",
              "\n",
              "      async function convertToInteractive(key) {\n",
              "        const element = document.querySelector('#df-1906b636-12bc-4785-9340-31debb4e3fe4');\n",
              "        const dataTable =\n",
              "          await google.colab.kernel.invokeFunction('convertToInteractive',\n",
              "                                                    [key], {});\n",
              "        if (!dataTable) return;\n",
              "\n",
              "        const docLinkHtml = 'Like what you see? Visit the ' +\n",
              "          '<a target=\"_blank\" href=https://colab.research.google.com/notebooks/data_table.ipynb>data table notebook</a>'\n",
              "          + ' to learn more about interactive tables.';\n",
              "        element.innerHTML = '';\n",
              "        dataTable['output_type'] = 'display_data';\n",
              "        await google.colab.output.renderOutput(dataTable, element);\n",
              "        const docLink = document.createElement('div');\n",
              "        docLink.innerHTML = docLinkHtml;\n",
              "        element.appendChild(docLink);\n",
              "      }\n",
              "    </script>\n",
              "  </div>\n",
              "\n",
              "\n",
              "<div id=\"df-752cc70a-9591-4cb7-946a-5f5b60a6f579\">\n",
              "  <button class=\"colab-df-quickchart\" onclick=\"quickchart('df-752cc70a-9591-4cb7-946a-5f5b60a6f579')\"\n",
              "            title=\"Suggest charts\"\n",
              "            style=\"display:none;\">\n",
              "\n",
              "<svg xmlns=\"http://www.w3.org/2000/svg\" height=\"24px\"viewBox=\"0 0 24 24\"\n",
              "     width=\"24px\">\n",
              "    <g>\n",
              "        <path d=\"M19 3H5c-1.1 0-2 .9-2 2v14c0 1.1.9 2 2 2h14c1.1 0 2-.9 2-2V5c0-1.1-.9-2-2-2zM9 17H7v-7h2v7zm4 0h-2V7h2v10zm4 0h-2v-4h2v4z\"/>\n",
              "    </g>\n",
              "</svg>\n",
              "  </button>\n",
              "\n",
              "<style>\n",
              "  .colab-df-quickchart {\n",
              "      --bg-color: #E8F0FE;\n",
              "      --fill-color: #1967D2;\n",
              "      --hover-bg-color: #E2EBFA;\n",
              "      --hover-fill-color: #174EA6;\n",
              "      --disabled-fill-color: #AAA;\n",
              "      --disabled-bg-color: #DDD;\n",
              "  }\n",
              "\n",
              "  [theme=dark] .colab-df-quickchart {\n",
              "      --bg-color: #3B4455;\n",
              "      --fill-color: #D2E3FC;\n",
              "      --hover-bg-color: #434B5C;\n",
              "      --hover-fill-color: #FFFFFF;\n",
              "      --disabled-bg-color: #3B4455;\n",
              "      --disabled-fill-color: #666;\n",
              "  }\n",
              "\n",
              "  .colab-df-quickchart {\n",
              "    background-color: var(--bg-color);\n",
              "    border: none;\n",
              "    border-radius: 50%;\n",
              "    cursor: pointer;\n",
              "    display: none;\n",
              "    fill: var(--fill-color);\n",
              "    height: 32px;\n",
              "    padding: 0;\n",
              "    width: 32px;\n",
              "  }\n",
              "\n",
              "  .colab-df-quickchart:hover {\n",
              "    background-color: var(--hover-bg-color);\n",
              "    box-shadow: 0 1px 2px rgba(60, 64, 67, 0.3), 0 1px 3px 1px rgba(60, 64, 67, 0.15);\n",
              "    fill: var(--button-hover-fill-color);\n",
              "  }\n",
              "\n",
              "  .colab-df-quickchart-complete:disabled,\n",
              "  .colab-df-quickchart-complete:disabled:hover {\n",
              "    background-color: var(--disabled-bg-color);\n",
              "    fill: var(--disabled-fill-color);\n",
              "    box-shadow: none;\n",
              "  }\n",
              "\n",
              "  .colab-df-spinner {\n",
              "    border: 2px solid var(--fill-color);\n",
              "    border-color: transparent;\n",
              "    border-bottom-color: var(--fill-color);\n",
              "    animation:\n",
              "      spin 1s steps(1) infinite;\n",
              "  }\n",
              "\n",
              "  @keyframes spin {\n",
              "    0% {\n",
              "      border-color: transparent;\n",
              "      border-bottom-color: var(--fill-color);\n",
              "      border-left-color: var(--fill-color);\n",
              "    }\n",
              "    20% {\n",
              "      border-color: transparent;\n",
              "      border-left-color: var(--fill-color);\n",
              "      border-top-color: var(--fill-color);\n",
              "    }\n",
              "    30% {\n",
              "      border-color: transparent;\n",
              "      border-left-color: var(--fill-color);\n",
              "      border-top-color: var(--fill-color);\n",
              "      border-right-color: var(--fill-color);\n",
              "    }\n",
              "    40% {\n",
              "      border-color: transparent;\n",
              "      border-right-color: var(--fill-color);\n",
              "      border-top-color: var(--fill-color);\n",
              "    }\n",
              "    60% {\n",
              "      border-color: transparent;\n",
              "      border-right-color: var(--fill-color);\n",
              "    }\n",
              "    80% {\n",
              "      border-color: transparent;\n",
              "      border-right-color: var(--fill-color);\n",
              "      border-bottom-color: var(--fill-color);\n",
              "    }\n",
              "    90% {\n",
              "      border-color: transparent;\n",
              "      border-bottom-color: var(--fill-color);\n",
              "    }\n",
              "  }\n",
              "</style>\n",
              "\n",
              "  <script>\n",
              "    async function quickchart(key) {\n",
              "      const quickchartButtonEl =\n",
              "        document.querySelector('#' + key + ' button');\n",
              "      quickchartButtonEl.disabled = true;  // To prevent multiple clicks.\n",
              "      quickchartButtonEl.classList.add('colab-df-spinner');\n",
              "      try {\n",
              "        const charts = await google.colab.kernel.invokeFunction(\n",
              "            'suggestCharts', [key], {});\n",
              "      } catch (error) {\n",
              "        console.error('Error during call to suggestCharts:', error);\n",
              "      }\n",
              "      quickchartButtonEl.classList.remove('colab-df-spinner');\n",
              "      quickchartButtonEl.classList.add('colab-df-quickchart-complete');\n",
              "    }\n",
              "    (() => {\n",
              "      let quickchartButtonEl =\n",
              "        document.querySelector('#df-752cc70a-9591-4cb7-946a-5f5b60a6f579 button');\n",
              "      quickchartButtonEl.style.display =\n",
              "        google.colab.kernel.accessAllowed ? 'block' : 'none';\n",
              "    })();\n",
              "  </script>\n",
              "</div>\n",
              "    </div>\n",
              "  </div>\n"
            ]
          },
          "metadata": {},
          "execution_count": 9
        }
      ]
    },
    {
      "cell_type": "code",
      "source": [
        "#variables\n",
        "X = data['review']\n",
        "y = data['label']"
      ],
      "metadata": {
        "id": "bLpgiKehNj_R"
      },
      "execution_count": null,
      "outputs": []
    },
    {
      "cell_type": "markdown",
      "source": [
        "# Logistic Regression Model"
      ],
      "metadata": {
        "id": "lu4SFjDy9smg"
      }
    },
    {
      "cell_type": "code",
      "source": [
        "# Tokenization & Vectorization (TF-IDF)\n",
        "tfidf = TfidfVectorizer(lowercase=True)\n",
        "\n",
        "# Training set and Test set\n",
        "X_train,X_test,Y_train,Y_test = train_test_split(X,y, test_size=0.20, random_state=225)\n",
        "\n",
        "# Train Logistic Regression\n",
        "logicRe =LogisticRegression(solver='lbfgs', max_iter=3000)\n",
        "lr = Pipeline([('vectorizer',tfidf),('classifier',logicRe)])\n",
        "lr.fit(X_train,Y_train)\n",
        "lrpred = lr.predict(X_test)\n",
        "\n",
        "# Accuracy\n",
        "print(\"Accuracy of Logistic Regression => \",accuracy_score(lrpred,Y_test)*100)"
      ],
      "metadata": {
        "id": "wiNCFVJL1DKw",
        "colab": {
          "base_uri": "https://localhost:8080/"
        },
        "outputId": "e3b8d7ce-7165-4465-f6d6-ec668180e707"
      },
      "execution_count": null,
      "outputs": [
        {
          "output_type": "stream",
          "name": "stdout",
          "text": [
            "Accuracy of Logistic Regression =>  62.975\n"
          ]
        }
      ]
    },
    {
      "cell_type": "markdown",
      "source": [
        "# Prediction"
      ],
      "metadata": {
        "id": "Fnx1mOBDfZGf"
      }
    },
    {
      "cell_type": "code",
      "source": [
        "new_text = [\"The comments already posted for this film do not do it justice. It is a very low budget sci-fi film made by lesser known people and should be judged that way. To say the film shouldn't be made is plain wrong. How do people learn without doing? Small pictures should be encouraged, not made fun of just because they are not of the highest quality.\"]\n",
        "prediction = lr.predict(new_text)\n",
        "\n",
        "# Displaying Results\n",
        "for text, prediction_index in zip(new_text,prediction):\n",
        "    if prediction_index == \"pos\":\n",
        "        prediction_label = 1\n",
        "    elif prediction_index == \"unsup\":\n",
        "        prediction_label = 0\n",
        "    else:\n",
        "        prediction_label = -1\n",
        "\n",
        "print(\"Predicted class:\", prediction_label)"
      ],
      "metadata": {
        "id": "PL_1XLTl9J9E",
        "colab": {
          "base_uri": "https://localhost:8080/"
        },
        "outputId": "7f35969f-e91e-460a-943f-ab449e420149"
      },
      "execution_count": null,
      "outputs": [
        {
          "output_type": "stream",
          "name": "stdout",
          "text": [
            "Predicted class: 0\n"
          ]
        }
      ]
    },
    {
      "cell_type": "code",
      "source": [
        "new_text = [\"This is an enjoyable movie. Its very realistic to the wonderful world of music I've been there and done that. It shows a human element in each character and the realism that nobody is perfect. These amateur musicians weren't all that bad players. Cleavon Little's character, Marshall Tucker, was played very well. Marshall was no saint himself. Here he was getting paid to do a job and he's giving these guys a hard time about everything in the van on the way up there. You don't bite the hands that feed you. I do find it hard to believe that a player with the jazz experience he has, claims he does not know any of the dixieland tunes. He has a tremendous sense of predicting chord changes to tunes he does not know. Not common, but not unheard of either. He delivers a true and harsh message at the end of the movie when he tells the clarinet player, its not a religion, devotion is not enough. On that level, he is correct, although I think the clarinet player could have handled the job. He was practicing his butt off and vocal accompaniment music is not that hard to read. Very enjoyable movie.\"]\n",
        "prediction = lr.predict(new_text)\n",
        "\n",
        "# Displaying Results\n",
        "for text, prediction_index in zip(new_text,prediction):\n",
        "    if prediction_index == \"pos\":\n",
        "        prediction_label = 1\n",
        "    elif prediction_index == \"unsup\":\n",
        "        prediction_label = 0\n",
        "    else:\n",
        "        prediction_label = -1\n",
        "\n",
        "print(\"Predicted class:\", prediction_label)"
      ],
      "metadata": {
        "id": "G8eQQopMAftU",
        "colab": {
          "base_uri": "https://localhost:8080/"
        },
        "outputId": "24c5661b-8850-4ca2-c1b4-f647190c163b"
      },
      "execution_count": null,
      "outputs": [
        {
          "output_type": "stream",
          "name": "stdout",
          "text": [
            "Predicted class: 1\n"
          ]
        }
      ]
    },
    {
      "cell_type": "markdown",
      "source": [
        "# Pickle"
      ],
      "metadata": {
        "id": "YeS1prccfgQW"
      }
    },
    {
      "cell_type": "code",
      "source": [
        "import pickle\n",
        "with open('Logistic.pkl', 'wb') as file:\n",
        "    pickle.dump(lr, file)"
      ],
      "metadata": {
        "id": "CnVa8niSPH1a"
      },
      "execution_count": null,
      "outputs": []
    }
  ]
}
